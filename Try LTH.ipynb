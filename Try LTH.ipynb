{
 "cells": [
  {
   "cell_type": "code",
   "execution_count": 1,
   "metadata": {
    "scrolled": false
   },
   "outputs": [
    {
     "name": "stderr",
     "output_type": "stream",
     "text": [
      "/Users/etrrhmd/anaconda3/envs/wasp_summer_2020/lib/python3.7/site-packages/gym/logger.py:30: UserWarning: \u001b[33mWARN: Box bound precision lowered by casting to float32\u001b[0m\n",
      "  warnings.warn(colorize('%s: %s'%('WARN', msg % args), 'yellow'))\n",
      "/Users/etrrhmd/anaconda3/envs/wasp_summer_2020/lib/python3.7/site-packages/tensorflow/python/framework/dtypes.py:526: FutureWarning: Passing (type, 1) or '1type' as a synonym of type is deprecated; in a future version of numpy, it will be understood as (type, (1,)) / '(1,)type'.\n",
      "  _np_qint8 = np.dtype([(\"qint8\", np.int8, 1)])\n",
      "/Users/etrrhmd/anaconda3/envs/wasp_summer_2020/lib/python3.7/site-packages/tensorflow/python/framework/dtypes.py:527: FutureWarning: Passing (type, 1) or '1type' as a synonym of type is deprecated; in a future version of numpy, it will be understood as (type, (1,)) / '(1,)type'.\n",
      "  _np_quint8 = np.dtype([(\"quint8\", np.uint8, 1)])\n",
      "/Users/etrrhmd/anaconda3/envs/wasp_summer_2020/lib/python3.7/site-packages/tensorflow/python/framework/dtypes.py:528: FutureWarning: Passing (type, 1) or '1type' as a synonym of type is deprecated; in a future version of numpy, it will be understood as (type, (1,)) / '(1,)type'.\n",
      "  _np_qint16 = np.dtype([(\"qint16\", np.int16, 1)])\n",
      "/Users/etrrhmd/anaconda3/envs/wasp_summer_2020/lib/python3.7/site-packages/tensorflow/python/framework/dtypes.py:529: FutureWarning: Passing (type, 1) or '1type' as a synonym of type is deprecated; in a future version of numpy, it will be understood as (type, (1,)) / '(1,)type'.\n",
      "  _np_quint16 = np.dtype([(\"quint16\", np.uint16, 1)])\n",
      "/Users/etrrhmd/anaconda3/envs/wasp_summer_2020/lib/python3.7/site-packages/tensorflow/python/framework/dtypes.py:530: FutureWarning: Passing (type, 1) or '1type' as a synonym of type is deprecated; in a future version of numpy, it will be understood as (type, (1,)) / '(1,)type'.\n",
      "  _np_qint32 = np.dtype([(\"qint32\", np.int32, 1)])\n",
      "/Users/etrrhmd/anaconda3/envs/wasp_summer_2020/lib/python3.7/site-packages/tensorflow/python/framework/dtypes.py:535: FutureWarning: Passing (type, 1) or '1type' as a synonym of type is deprecated; in a future version of numpy, it will be understood as (type, (1,)) / '(1,)type'.\n",
      "  np_resource = np.dtype([(\"resource\", np.ubyte, 1)])\n"
     ]
    }
   ],
   "source": [
    "# Simple env test.\n",
    "import json\n",
    "import select\n",
    "import time\n",
    "import logging\n",
    "import os\n",
    "\n",
    "import gym\n",
    "#import snake_gym\n",
    "import minerl\n",
    "import random\n",
    "\n",
    "import numpy as np\n",
    "import tensorflow as tf\n",
    "import matplotlib.pyplot as plt\n",
    "import math\n",
    "from collections import deque\n",
    "\n",
    "from minerl.herobraine.hero import spaces\n",
    "from minerl.herobraine.env_spec import MISSIONS_DIR"
   ]
  },
  {
   "cell_type": "code",
   "execution_count": 2,
   "metadata": {},
   "outputs": [],
   "source": [
    "env = gym.make(\"MineRLNavigateDense-v0\", xml=\"lth_navigation.xml\",  \n",
    "               observation_space=spaces.Dict({'pov': spaces.Box(low=0, high=255, shape=(64, 64, 3), dtype=np.uint8),}),\n",
    "               action_space = spaces.Dict(spaces={\"forward\": spaces.Discrete(2),\n",
    "                                                  \"back\": spaces.Discrete(2),\n",
    "                                                  \"left\": spaces.Discrete(2), \n",
    "                                                  \"right\": spaces.Discrete(2), \n",
    "                                                  \"jump\": spaces.Discrete(2), \n",
    "                                                  \"sneak\": spaces.Discrete(2), \n",
    "                                                  \"sprint\": spaces.Discrete(2), \n",
    "                                                  \"attack\": spaces.Discrete(2),\n",
    "                                                  \"camera\": spaces.Box(low=-180, high=180, shape=(2,), dtype=np.float32),})\n",
    "              )"
   ]
  },
  {
   "cell_type": "code",
   "execution_count": 4,
   "metadata": {
    "scrolled": true
   },
   "outputs": [
    {
     "data": {
      "text/plain": [
       "OrderedDict([('compassAngle', array(5.619934)),\n",
       "             ('inventory', OrderedDict([('dirt', array(0))])),\n",
       "             ('pov',\n",
       "              array([[[ 90,  67,  61],\n",
       "                      [ 84,  65,  59],\n",
       "                      [ 89,  54,  44],\n",
       "                      ...,\n",
       "                      [142, 180, 249],\n",
       "                      [142, 180, 249],\n",
       "                      [120,  91,  84]],\n",
       "              \n",
       "                     [[ 86,  51,  41],\n",
       "                      [ 92,  72,  67],\n",
       "                      [ 84,  64,  59],\n",
       "                      ...,\n",
       "                      [117,  80,  71],\n",
       "                      [117,  80,  70],\n",
       "                      [115,  78,  69]],\n",
       "              \n",
       "                     [[ 87,  67,  62],\n",
       "                      [ 96,  81,  77],\n",
       "                      [ 92,  72,  67],\n",
       "                      ...,\n",
       "                      [117,  80,  71],\n",
       "                      [120,  91,  84],\n",
       "                      [122,  91,  84]],\n",
       "              \n",
       "                     ...,\n",
       "              \n",
       "                     [[116, 116, 116],\n",
       "                      [116, 116, 116],\n",
       "                      [137, 137, 137],\n",
       "                      ...,\n",
       "                      [114, 114, 114],\n",
       "                      [123, 123, 123],\n",
       "                      [138, 138, 138]],\n",
       "              \n",
       "                     [[115, 115, 115],\n",
       "                      [115, 115, 115],\n",
       "                      [115, 115, 115],\n",
       "                      ...,\n",
       "                      [114, 114, 114],\n",
       "                      [114, 114, 114],\n",
       "                      [125, 125, 125]],\n",
       "              \n",
       "                     [[115, 115, 115],\n",
       "                      [115, 115, 115],\n",
       "                      [115, 115, 115],\n",
       "                      ...,\n",
       "                      [114, 114, 114],\n",
       "                      [114, 114, 114],\n",
       "                      [114, 114, 114]]], dtype=uint8))])"
      ]
     },
     "execution_count": 4,
     "metadata": {},
     "output_type": "execute_result"
    }
   ],
   "source": [
    "env.reset()"
   ]
  },
  {
   "cell_type": "code",
   "execution_count": 21,
   "metadata": {},
   "outputs": [],
   "source": [
    "env.close()"
   ]
  },
  {
   "cell_type": "code",
   "execution_count": null,
   "metadata": {},
   "outputs": [],
   "source": []
  }
 ],
 "metadata": {
  "anaconda-cloud": {},
  "kernelspec": {
   "display_name": "Python 3",
   "language": "python",
   "name": "python3"
  },
  "language_info": {
   "codemirror_mode": {
    "name": "ipython",
    "version": 3
   },
   "file_extension": ".py",
   "mimetype": "text/x-python",
   "name": "python",
   "nbconvert_exporter": "python",
   "pygments_lexer": "ipython3",
   "version": "3.7.7"
  }
 },
 "nbformat": 4,
 "nbformat_minor": 1
}
